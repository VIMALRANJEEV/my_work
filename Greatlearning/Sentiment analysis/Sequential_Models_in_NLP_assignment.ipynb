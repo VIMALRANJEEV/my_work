{
  "nbformat": 4,
  "nbformat_minor": 0,
  "metadata": {
    "colab": {
      "name": "Sequential Models in NLP - Sentiment Classification.ipynb",
      "provenance": [],
      "collapsed_sections": []
    },
    "kernelspec": {
      "display_name": "Python 3",
      "language": "python",
      "name": "python3"
    },
    "language_info": {
      "codemirror_mode": {
        "name": "ipython",
        "version": 3
      },
      "file_extension": ".py",
      "mimetype": "text/x-python",
      "name": "python",
      "nbconvert_exporter": "python",
      "pygments_lexer": "ipython3",
      "version": "3.7.1"
    }
  },
  "cells": [
    {
      "cell_type": "markdown",
      "metadata": {
        "id": "OudB5by50jlI"
      },
      "source": [
        "# Sentiment Classification"
      ]
    },
    {
      "cell_type": "markdown",
      "metadata": {
        "id": "Q34-Y3nRKXdO"
      },
      "source": [
        "### Imported the data \n",
        "- Used `imdb.load_data()` method\n"
      ]
    },
    {
      "cell_type": "code",
      "metadata": {
        "id": "JxfwbrbuKbk2"
      },
      "source": [
        "import numpy as np\r\n",
        "import matplotlib.pyplot as plt\r\n",
        "import tensorflow as tf\r\n",
        "import warnings\r\n",
        "warnings.filterwarnings(\"ignore\")\r\n",
        "from tensorflow.keras.preprocessing.sequence import pad_sequences\r\n",
        "from tensorflow.keras.datasets import imdb\r\n",
        "(X_train, y_train), (X_test, y_test) = imdb.load_data(num_words = 10000)"
      ],
      "execution_count": 92,
      "outputs": []
    },
    {
      "cell_type": "markdown",
      "metadata": {
        "id": "DldivBO4LTbP"
      },
      "source": [
        "### Pad each sentence to be of same length \n",
        "- Took maximum sequence length as 300"
      ]
    },
    {
      "cell_type": "code",
      "metadata": {
        "id": "E808XB4tLtic"
      },
      "source": [
        "X_train = pad_sequences(X_train, maxlen = 300)\r\n",
        "X_test = pad_sequences(X_test, maxlen=300)"
      ],
      "execution_count": 93,
      "outputs": []
    },
    {
      "cell_type": "markdown",
      "metadata": {
        "id": "JBFFCrybMSXz"
      },
      "source": [
        "### Shape of features & labels "
      ]
    },
    {
      "cell_type": "code",
      "metadata": {
        "id": "hdMCUPr7RaCm",
        "colab": {
          "base_uri": "https://localhost:8080/"
        },
        "outputId": "c970031f-2e05-4601-d9e9-d51fdffffe63"
      },
      "source": [
        "X_train.shape"
      ],
      "execution_count": 94,
      "outputs": [
        {
          "output_type": "execute_result",
          "data": {
            "text/plain": [
              "(25000, 300)"
            ]
          },
          "metadata": {
            "tags": []
          },
          "execution_count": 94
        }
      ]
    },
    {
      "cell_type": "code",
      "metadata": {
        "id": "eGVHeKOWyJiG",
        "colab": {
          "base_uri": "https://localhost:8080/"
        },
        "outputId": "baf2053a-cbdc-4a93-e8ec-7d9a9895927c"
      },
      "source": [
        "y_train.shape"
      ],
      "execution_count": 95,
      "outputs": [
        {
          "output_type": "execute_result",
          "data": {
            "text/plain": [
              "(25000,)"
            ]
          },
          "metadata": {
            "tags": []
          },
          "execution_count": 95
        }
      ]
    },
    {
      "cell_type": "code",
      "metadata": {
        "id": "6Z00-mYgMoKv",
        "colab": {
          "base_uri": "https://localhost:8080/"
        },
        "outputId": "254112bb-d327-4b47-bb29-f2b1322e8370"
      },
      "source": [
        "X_test.shape"
      ],
      "execution_count": 96,
      "outputs": [
        {
          "output_type": "execute_result",
          "data": {
            "text/plain": [
              "(25000, 300)"
            ]
          },
          "metadata": {
            "tags": []
          },
          "execution_count": 96
        }
      ]
    },
    {
      "cell_type": "code",
      "metadata": {
        "id": "H7f5tPeaMxti",
        "colab": {
          "base_uri": "https://localhost:8080/"
        },
        "outputId": "2d4bbbcd-6125-4995-d4a2-304b7be1bd7a"
      },
      "source": [
        "y_test.shape"
      ],
      "execution_count": 97,
      "outputs": [
        {
          "output_type": "execute_result",
          "data": {
            "text/plain": [
              "(25000,)"
            ]
          },
          "metadata": {
            "tags": []
          },
          "execution_count": 97
        }
      ]
    },
    {
      "cell_type": "markdown",
      "metadata": {
        "id": "NdXPWuOmNEbh"
      },
      "source": [
        "### Value of any one feature and it's label "
      ]
    },
    {
      "cell_type": "markdown",
      "metadata": {
        "id": "MGLEdeFmNZfR"
      },
      "source": [
        "Feature value"
      ]
    },
    {
      "cell_type": "code",
      "metadata": {
        "id": "RKFyMa28zztL",
        "colab": {
          "base_uri": "https://localhost:8080/"
        },
        "outputId": "8737a925-da21-4f18-d2ca-70826e929e82"
      },
      "source": [
        "X_train[3]"
      ],
      "execution_count": 98,
      "outputs": [
        {
          "output_type": "execute_result",
          "data": {
            "text/plain": [
              "array([  12,   47,    6, 2683,  936,    5, 6307,    2,   19,   49,    7,\n",
              "          4, 1885,    2, 1118,   25,   80,  126,  842,   10,   10,    2,\n",
              "          2, 4726,   27, 4494,   11, 1550, 3633,  159,   27,  341,   29,\n",
              "       2733,   19, 4185,  173,    7,   90,    2,    8,   30,   11,    4,\n",
              "       1784,   86, 1117,    8, 3261,   46,   11,    2,   21,   29,    9,\n",
              "       2841,   23,    4, 1010,    2,  793,    6,    2, 1386, 1830,   10,\n",
              "         10,  246,   50,    9,    6, 2750, 1944,  746,   90,   29,    2,\n",
              "          8,  124,    4,  882,    4,  882,  496,   27,    2, 2213,  537,\n",
              "        121,  127, 1219,  130,    5,   29,  494,    8,  124,    4,  882,\n",
              "        496,    4,  341,    7,   27,  846,   10,   10,   29,    9, 1906,\n",
              "          8,   97,    6,  236,    2, 1311,    8,    4,    2,    7,   31,\n",
              "          7,    2,   91,    2, 3987,   70,    4,  882,   30,  579,   42,\n",
              "          9,   12,   32,   11,  537,   10,   10,   11,   14,   65,   44,\n",
              "        537,   75,    2, 1775, 3353,    2, 1846,    4,    2,    7,  154,\n",
              "          5,    4,  518,   53,    2,    2,    7, 3211,  882,   11,  399,\n",
              "         38,   75,  257, 3807,   19,    2,   17,   29,  456,    4,   65,\n",
              "          7,   27,  205,  113,   10,   10,    2,    4,    2,    2,    9,\n",
              "        242,    4,   91, 1202,    2,    5, 2070,  307,   22,    7, 5168,\n",
              "        126,   93,   40,    2,   13,  188, 1076, 3222,   19,    4,    2,\n",
              "          7, 2348,  537,   23,   53,  537,   21,   82,   40,    2,   13,\n",
              "          2,   14,  280,   13,  219,    4,    2,  431,  758,  859,    4,\n",
              "        953, 1052,    2,    7, 5991,    5,   94,   40,   25,  238,   60,\n",
              "          2,    4,    2,  804,    2,    7,    4, 9941,  132,    8,   67,\n",
              "          6,   22,   15,    9,  283,    8, 5168,   14,   31,    9,  242,\n",
              "        955,   48,   25,  279,    2,   23,   12, 1685,  195,   25,  238,\n",
              "         60,  796,    2,    4,  671,    7, 2804,    5,    4,  559,  154,\n",
              "        888,    7,  726,   50,   26,   49, 7008,   15,  566,   30,  579,\n",
              "         21,   64, 2574], dtype=int32)"
            ]
          },
          "metadata": {
            "tags": []
          },
          "execution_count": 98
        }
      ]
    },
    {
      "cell_type": "markdown",
      "metadata": {
        "id": "h_85Hqm0Nb1I"
      },
      "source": [
        "Label value"
      ]
    },
    {
      "cell_type": "code",
      "metadata": {
        "id": "-FoehB5jNd1g",
        "colab": {
          "base_uri": "https://localhost:8080/"
        },
        "outputId": "fbd6f33a-1ec1-4389-d266-cdf835f6cbba"
      },
      "source": [
        "y_train[3]"
      ],
      "execution_count": 99,
      "outputs": [
        {
          "output_type": "execute_result",
          "data": {
            "text/plain": [
              "1"
            ]
          },
          "metadata": {
            "tags": []
          },
          "execution_count": 99
        }
      ]
    },
    {
      "cell_type": "code",
      "metadata": {
        "id": "yQjhKzqzY5Ra"
      },
      "source": [
        "X = np.concatenate((X_train, X_test), axis = 0)\r\n",
        "y = np.concatenate((y_train, y_test), axis = 0)"
      ],
      "execution_count": 100,
      "outputs": []
    },
    {
      "cell_type": "markdown",
      "metadata": {
        "id": "0cof4LSxNxuv"
      },
      "source": [
        "### Decoded the feature value to get original sentence "
      ]
    },
    {
      "cell_type": "markdown",
      "metadata": {
        "id": "Q_oiAyPZOkJD"
      },
      "source": [
        "First, retrieve a dictionary that contains mapping of words to their index in the IMDB dataset"
      ]
    },
    {
      "cell_type": "code",
      "metadata": {
        "id": "Clsk-yK8OtzD",
        "colab": {
          "base_uri": "https://localhost:8080/"
        },
        "outputId": "32e7f9b1-af74-489f-d1b2-c9ea8f7b5819"
      },
      "source": [
        "def decode_review(x, y):\r\n",
        "  \r\n",
        "  word_index = imdb.get_word_index()\r\n",
        "\r\n",
        "  \r\n",
        "  word_index = {k: (v + 3) for k, v in word_index.items()}\r\n",
        "  word_index['<PAD>'] = 0\r\n",
        "  word_index['<START>'] = 1\r\n",
        "  word_index['<UNK>'] = 2  \r\n",
        "  word_index['<UNUSED>'] = 3\r\n",
        "  \r\n",
        "  word_index_1= {i: w for w, i in word_index.items()}\r\n",
        "  \r\n",
        "  words = (' '.join(word_index_1[i] for i in x if i!=0))\r\n",
        "  print(f'Review: {words}')\r\n",
        "  print(f'Actual Sentiment: {y}')\r\n",
        "  return word_index, word_index_1\r\n",
        "\r\n",
        "word_index, word_index_1 = decode_review(X_train[0], y_train[0])"
      ],
      "execution_count": 101,
      "outputs": [
        {
          "output_type": "stream",
          "text": [
            "Review: <START> this film was just brilliant casting location scenery story direction everyone's really suited the part they played and you could just imagine being there robert <UNK> is an amazing actor and now the same being director <UNK> father came from the same scottish island as myself so i loved the fact there was a real connection with this film the witty remarks throughout the film were great it was just brilliant so much that i bought the film as soon as it was released for <UNK> and would recommend it to everyone to watch and the fly fishing was amazing really cried at the end it was so sad and you know what they say if you cry at a film it must have been good and this definitely was also <UNK> to the two little boy's that played the <UNK> of norman and paul they were just brilliant children are often left out of the <UNK> list i think because the stars that play them all grown up are such a big profile for the whole film but these children are amazing and should be praised for what they have done don't you think the whole story was so lovely because it was true and was someone's life after all that was shared with us all\n",
            "Actual Sentiment: 1\n"
          ],
          "name": "stdout"
        }
      ]
    },
    {
      "cell_type": "markdown",
      "metadata": {
        "id": "NRgOD5S2Uuvd"
      },
      "source": [
        "Now used the dictionary to get the original words from the encodings, for a particular sentence"
      ]
    },
    {
      "cell_type": "markdown",
      "metadata": {
        "id": "WLGABrJoVZe6"
      },
      "source": [
        "Get the sentiment for the above sentence\n",
        "- positive (1)\n",
        "- negative (0)"
      ]
    },
    {
      "cell_type": "code",
      "metadata": {
        "id": "XDyQGJT0Ve-a",
        "colab": {
          "base_uri": "https://localhost:8080/"
        },
        "outputId": "2939c450-4981-47a6-d97b-8920af81ecb2"
      },
      "source": [
        "y_train[0]"
      ],
      "execution_count": 102,
      "outputs": [
        {
          "output_type": "execute_result",
          "data": {
            "text/plain": [
              "1"
            ]
          },
          "metadata": {
            "tags": []
          },
          "execution_count": 102
        }
      ]
    },
    {
      "cell_type": "markdown",
      "metadata": {
        "id": "BmCjr8miXIWB"
      },
      "source": [
        "### Defined model \n",
        "- Defined a Sequential Model\n"
      ]
    },
    {
      "cell_type": "code",
      "metadata": {
        "id": "Np5GxT1caFEq"
      },
      "source": [
        "from tensorflow.keras import Sequential\r\n",
        "from tensorflow.keras.layers import LSTM, Dropout, Dense, Embedding,TimeDistributed,Flatten\r\n",
        "vocab_size = 10000\r\n",
        "embedding_dim = 100 \r\n",
        "maxlen = 300\r\n",
        "\r\n",
        "model = Sequential()\r\n",
        "model.add(Embedding(vocab_size, embedding_dim, input_length=maxlen))\r\n",
        "model.add(LSTM(units=60, activation='tanh',return_sequences=True))\r\n",
        "model.add(TimeDistributed(Dense(100)))\r\n",
        "model.add(Flatten())\r\n",
        "model.add(Dense(units=1, activation='sigmoid'))"
      ],
      "execution_count": 103,
      "outputs": []
    },
    {
      "cell_type": "markdown",
      "metadata": {
        "id": "Hc4bknOobDby"
      },
      "source": [
        "### Compiled the model \n",
        "- Used Optimizer as Adam\n",
        "- Used Binary Crossentropy as loss\n",
        "- Used Accuracy as metrics"
      ]
    },
    {
      "cell_type": "code",
      "metadata": {
        "id": "jw4RJ0CQbwFY"
      },
      "source": [
        "model.compile(optimizer='adam', loss='binary_crossentropy', metrics = ['accuracy'])"
      ],
      "execution_count": 104,
      "outputs": []
    },
    {
      "cell_type": "markdown",
      "metadata": {
        "id": "8sEzwazqbz3T"
      },
      "source": [
        "###model summary "
      ]
    },
    {
      "cell_type": "code",
      "metadata": {
        "id": "6Hx1yxwlb2Ue",
        "colab": {
          "base_uri": "https://localhost:8080/"
        },
        "outputId": "3a75c98d-32f3-450f-bd73-b42628b89c1f"
      },
      "source": [
        "model.summary()"
      ],
      "execution_count": 105,
      "outputs": [
        {
          "output_type": "stream",
          "text": [
            "Model: \"sequential_4\"\n",
            "_________________________________________________________________\n",
            "Layer (type)                 Output Shape              Param #   \n",
            "=================================================================\n",
            "embedding_4 (Embedding)      (None, 300, 100)          1000000   \n",
            "_________________________________________________________________\n",
            "lstm_4 (LSTM)                (None, 300, 60)           38640     \n",
            "_________________________________________________________________\n",
            "time_distributed_4 (TimeDist (None, 300, 100)          6100      \n",
            "_________________________________________________________________\n",
            "flatten_4 (Flatten)          (None, 30000)             0         \n",
            "_________________________________________________________________\n",
            "dense_9 (Dense)              (None, 1)                 30001     \n",
            "=================================================================\n",
            "Total params: 1,074,741\n",
            "Trainable params: 1,074,741\n",
            "Non-trainable params: 0\n",
            "_________________________________________________________________\n"
          ],
          "name": "stdout"
        }
      ]
    },
    {
      "cell_type": "markdown",
      "metadata": {
        "id": "bmkolKP4b-U6"
      },
      "source": [
        "### Fit the model "
      ]
    },
    {
      "cell_type": "code",
      "metadata": {
        "id": "vRg3KFXLcAkk",
        "colab": {
          "base_uri": "https://localhost:8080/"
        },
        "outputId": "8dddad44-02f0-4b6c-9bca-6936ad39f532"
      },
      "source": [
        "history = model.fit(X_train, y_train, epochs=5, batch_size=128, validation_data=(X_test, y_test))"
      ],
      "execution_count": 106,
      "outputs": [
        {
          "output_type": "stream",
          "text": [
            "Epoch 1/5\n",
            "196/196 [==============================] - 110s 556ms/step - loss: 0.4977 - accuracy: 0.7125 - val_loss: 0.2796 - val_accuracy: 0.8828\n",
            "Epoch 2/5\n",
            "196/196 [==============================] - 107s 547ms/step - loss: 0.1814 - accuracy: 0.9313 - val_loss: 0.3068 - val_accuracy: 0.8762\n",
            "Epoch 3/5\n",
            "196/196 [==============================] - 107s 547ms/step - loss: 0.1116 - accuracy: 0.9593 - val_loss: 0.4008 - val_accuracy: 0.8666\n",
            "Epoch 4/5\n",
            "196/196 [==============================] - 107s 547ms/step - loss: 0.0498 - accuracy: 0.9828 - val_loss: 0.4920 - val_accuracy: 0.8599\n",
            "Epoch 5/5\n",
            "196/196 [==============================] - 107s 547ms/step - loss: 0.0236 - accuracy: 0.9921 - val_loss: 0.7855 - val_accuracy: 0.8564\n"
          ],
          "name": "stdout"
        }
      ]
    },
    {
      "cell_type": "markdown",
      "metadata": {
        "id": "bwLl54MXnkEA"
      },
      "source": [
        "### Evaluate model "
      ]
    },
    {
      "cell_type": "code",
      "metadata": {
        "id": "EUqY-bD8RaDR"
      },
      "source": [
        "def plot_learningCurve(history, epochs):\r\n",
        "  # Plot training & validation accuracy values\r\n",
        "  epoch_range = range(1, epochs+1)\r\n",
        "  plt.plot(epoch_range, history.history['accuracy'])\r\n",
        "  plt.plot(epoch_range, history.history['val_accuracy'])\r\n",
        "  plt.title('Model accuracy')\r\n",
        "  plt.ylabel('Accuracy')\r\n",
        "  plt.xlabel('Epoch')\r\n",
        "  plt.legend(['Train', 'Val'], loc='upper left')\r\n",
        "  plt.show()\r\n",
        "\r\n",
        "  # Plot training & validation loss values\r\n",
        "  plt.plot(epoch_range, history.history['loss'])\r\n",
        "  plt.plot(epoch_range, history.history['val_loss'])\r\n",
        "  plt.title('Model loss')\r\n",
        "  plt.ylabel('Loss')\r\n",
        "  plt.xlabel('Epoch')\r\n",
        "  plt.legend(['Train', 'Val'], loc='upper left')\r\n",
        "  plt.show()"
      ],
      "execution_count": 107,
      "outputs": []
    },
    {
      "cell_type": "code",
      "metadata": {
        "colab": {
          "base_uri": "https://localhost:8080/",
          "height": 573
        },
        "id": "kcoh4OcoPqUk",
        "outputId": "fab114ba-e57f-46fd-80b0-b161a9e124bd"
      },
      "source": [
        "plot_learningCurve(history, 5)"
      ],
      "execution_count": 108,
      "outputs": [
        {
          "output_type": "display_data",
          "data": {
            "image/png": "[encoded data removed]",
            "text/plain": [
              "<Figure size 432x288 with 1 Axes>"
            ]
          },
          "metadata": {
            "tags": [],
            "needs_background": "light"
          }
        },
        {
          "output_type": "display_data",
          "data": {
            "image/png": "[encoded data removed]",
            "text/plain": [
              "<Figure size 432x288 with 1 Axes>"
            ]
          },
          "metadata": {
            "tags": [],
            "needs_background": "light"
          }
        }
      ]
    },
    {
      "cell_type": "code",
      "metadata": {
        "colab": {
          "base_uri": "https://localhost:8080/"
        },
        "id": "QCticU78av8e",
        "outputId": "7d10843b-a5b0-43c7-c77c-1375e12c90c5"
      },
      "source": [
        "from sklearn.metrics import classification_report\r\n",
        "y_pred = model.predict_classes(X_test)\r\n",
        "print(f'Classification Report:\\n{classification_report(y_pred, y_test)}')"
      ],
      "execution_count": 109,
      "outputs": [
        {
          "output_type": "stream",
          "text": [
            "Classification Report:\n",
            "              precision    recall  f1-score   support\n",
            "\n",
            "           0       0.89      0.83      0.86     13353\n",
            "           1       0.82      0.88      0.85     11647\n",
            "\n",
            "    accuracy                           0.86     25000\n",
            "   macro avg       0.86      0.86      0.86     25000\n",
            "weighted avg       0.86      0.86      0.86     25000\n",
            "\n"
          ],
          "name": "stdout"
        }
      ]
    },
    {
      "cell_type": "markdown",
      "metadata": {
        "id": "h2amr1tJn9Jz"
      },
      "source": [
        "### Prediction on one sample "
      ]
    },
    {
      "cell_type": "code",
      "metadata": {
        "id": "Wl4idfWR_A8E",
        "colab": {
          "base_uri": "https://localhost:8080/"
        },
        "outputId": "5603475a-eb81-4c70-c27e-47194cbb0d47"
      },
      "source": [
        "decode_review(X_test[20],y_test[20])\r\n",
        "print(f'Predicted sentiment: {y_pred[20][0]}')"
      ],
      "execution_count": 110,
      "outputs": [
        {
          "output_type": "stream",
          "text": [
            "Review: <START> this film was one that i have waited to see for some time i was glad to find it has been everything anticipated the writing of this film has been so finely crafted and <UNK> far beyond what is seen by the audience i found it amusing that so many people watching will not read between some very important lines but indeed if not the movie will make sense in a different way and is very brilliant the film has many stories and characters woven together around this one character <UNK> a man whom has rose from the streets amidst many <UNK> and become a very powerful criminal after spending some time in prison <UNK> finds a <UNK> in the justice system and through a disturbing turn of events is released only to find everything is not at all what it seems <UNK> finds himself going up against the higher realm of society and political <UNK> in order to make clear how important a man's word is and stands for a war begins as the street is in arms against <UNK> of wealth and corrupt power br br a build up to explosive and powerful non stop twists and turns this film will leave you <UNK> i found the cast of this movie to be outstanding and is not a movie to be ignored excellent go rent it today\n",
            "Actual Sentiment: 1\n",
            "Predicted sentiment: 1\n"
          ],
          "name": "stdout"
        }
      ]
    },
    {
      "cell_type": "markdown",
      "metadata": {
        "id": "1dUXCD9A0OmG"
      },
      "source": [
        "## Result:\r\n",
        "> Accuracy was 86% \\\r\n",
        "> f1 score: >86% \\\r\n",
        "> Loss was 0.11"
      ]
    },
    {
      "cell_type": "code",
      "metadata": {
        "id": "21aw9l4h0rBN"
      },
      "source": [
        ""
      ],
      "execution_count": null,
      "outputs": []
    }
  ]
}